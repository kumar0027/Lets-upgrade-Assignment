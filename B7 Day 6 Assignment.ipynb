{
 "cells": [
  {
   "cell_type": "markdown",
   "metadata": {},
   "source": [
    "# Assignment 1"
   ]
  },
  {
   "cell_type": "code",
   "execution_count": 5,
   "metadata": {},
   "outputs": [
    {
     "name": "stdout",
     "output_type": "stream",
     "text": [
      "Hello!!! Welcome to the SBI Bank\n",
      "\n",
      "Owner's Name: Mr. Pratikk Kumar\n",
      "Balance     : Rs  10527\n",
      "\n",
      "Enter amount to be Deposited: Rs 800\n",
      "\n",
      "Available Balance           : Rs  11327.0\n",
      "\n",
      "Enter amount to be Withdrawn: Rs 1800\n",
      "\n",
      "\n",
      "Net Available Balance       : Rs  9527.0\n"
     ]
    }
   ],
   "source": [
    "class Bank_Account: \n",
    "    def __init__(self,ownername,balance): \n",
    "        self.ownername=ownername\n",
    "        self.balance=balance\n",
    "        print(\"Hello!!! Welcome to the SBI Bank\")\n",
    "        print(\"\")\n",
    "        print(\"Owner's Name: Mr.\",self.ownername)\n",
    "        print(\"Balance     : Rs \",self.balance)\n",
    "  \n",
    "    def deposit(self): \n",
    "        amount=float(input(\"\\nEnter amount to be Deposited: Rs \")) \n",
    "        self.balance += amount \n",
    "        print(\"\")\n",
    "        print(\"Available Balance           : Rs \",self.balance)\n",
    "  \n",
    "    def withdraw(self): \n",
    "        amount = float(input(\"\\nEnter amount to be Withdrawn: Rs \")) \n",
    "        if self.balance>=amount: \n",
    "            self.balance-=amount \n",
    "            print(\"\")\n",
    "            \n",
    "        else: \n",
    "            print(\"\")\n",
    "            print(\"Insufficient balance to be withdrawn\") \n",
    "  \n",
    "    def display(self): \n",
    "        print(\"\\nNet Available Balance       : Rs \",self.balance)\n",
    "        \n",
    "SBI = Bank_Account(\"Pratikk Kumar\",10527)\n",
    "SBI.deposit() \n",
    "SBI.withdraw() \n",
    "SBI.display()"
   ]
  },
  {
   "cell_type": "code",
   "execution_count": 6,
   "metadata": {},
   "outputs": [
    {
     "name": "stdout",
     "output_type": "stream",
     "text": [
      "Hello!!! Welcome to the SBI Bank\n",
      "\n",
      "Owner's Name: Mr. Pratikk Kumar\n",
      "Balance     : Rs  10527\n",
      "\n",
      "Enter amount to be Deposited: Rs 900\n",
      "\n",
      "Available Balance           : Rs  11427.0\n",
      "\n",
      "Enter amount to be Withdrawn: Rs 12000\n",
      "\n",
      "Insufficient balance to be withdrawn\n",
      "\n",
      "Net Available Balance       : Rs  11427.0\n"
     ]
    }
   ],
   "source": [
    "SBI = Bank_Account(\"Pratikk Kumar\",10527)\n",
    "SBI.deposit() \n",
    "SBI.withdraw() \n",
    "SBI.display()"
   ]
  },
  {
   "cell_type": "markdown",
   "metadata": {},
   "source": [
    "# Assignment 2"
   ]
  },
  {
   "cell_type": "code",
   "execution_count": 3,
   "metadata": {},
   "outputs": [
    {
     "name": "stdout",
     "output_type": "stream",
     "text": [
      "Let's create a Cone class\n",
      "\n",
      "Radius of cone =  3 cm\n",
      "Height of cone =  4 cm\n",
      "Volume of cone =  37.69911184307752 cm³\n",
      "\n",
      "Slant height of cone =  5.0 cm\n",
      "\n",
      "Base Area of cone =  28.274333882308138 cm²\n",
      "\n",
      "Lateral surface area of cone =  47.12388980384689 cm²\n"
     ]
    }
   ],
   "source": [
    "class cone():\n",
    "    def __init__(self,radius,height):\n",
    "        self.radius=radius\n",
    "        self.height=height\n",
    "        print(\"Let's create a Cone class\")\n",
    "        print(\"\\nRadius of cone = \",self.radius,\"cm\")\n",
    "        print(\"Height of cone = \",self.height,\"cm\")\n",
    "    \n",
    "    def volume(self):\n",
    "        import math\n",
    "        r=float(self.radius)\n",
    "        h=float(self.height)\n",
    "        volume=1.0/3*math.pi*r*r*h\n",
    "        print(\"Volume of cone = \",volume,\"cm³\")\n",
    "        \n",
    "    def surfacearea(self):\n",
    "        import math\n",
    "        r=float(self.radius)\n",
    "        h=float(self.height)\n",
    "        l=math.sqrt(r*r + h*h)\n",
    "        print(\"\\nSlant height of cone = \",l,\"cm\")\n",
    "        baseArea = math.pi*r*r\n",
    "        print(\"\\nBase Area of cone = \",baseArea,\"cm²\")\n",
    "        sideArea = math.pi*r*l\n",
    "        print(\"\\nLateral surface area of cone = \",sideArea,\"cm²\")\n",
    "        \n",
    "VOL = cone(3,4)\n",
    "VOL.volume()\n",
    "VOL.surfacearea()"
   ]
  }
 ],
 "metadata": {
  "kernelspec": {
   "display_name": "Python 3",
   "language": "python",
   "name": "python3"
  },
  "language_info": {
   "codemirror_mode": {
    "name": "ipython",
    "version": 3
   },
   "file_extension": ".py",
   "mimetype": "text/x-python",
   "name": "python",
   "nbconvert_exporter": "python",
   "pygments_lexer": "ipython3",
   "version": "3.7.6"
  }
 },
 "nbformat": 4,
 "nbformat_minor": 4
}
