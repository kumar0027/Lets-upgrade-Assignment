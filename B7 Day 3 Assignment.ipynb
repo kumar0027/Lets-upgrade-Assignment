{
 "cells": [
  {
   "cell_type": "markdown",
   "metadata": {},
   "source": [
    "# Question 1"
   ]
  },
  {
   "cell_type": "code",
   "execution_count": 19,
   "metadata": {},
   "outputs": [
    {
     "name": "stdout",
     "output_type": "stream",
     "text": [
      "Enter the plane Altitute = 750\n",
      " \n",
      "Safe to land\n"
     ]
    }
   ],
   "source": [
    "number = int(input(\"Enter the plane Altitute = \"))\n",
    "if number<=1000:\n",
    "    print(\" \")\n",
    "    print(\"Safe to land\")\n",
    "elif 1000<number<=5000:\n",
    "    print(\"Come down to 1000ft\")\n",
    "else:\n",
    "    print(\" \")\n",
    "    print(\"Turn around and try later\")"
   ]
  },
  {
   "cell_type": "code",
   "execution_count": 18,
   "metadata": {},
   "outputs": [
    {
     "name": "stdout",
     "output_type": "stream",
     "text": [
      "Enter the plane Altitute = 1900\n",
      " \n",
      "Come down to 1000 ft\n"
     ]
    }
   ],
   "source": [
    "number = int(input(\"Enter the plane Altitute = \"))\n",
    "if number<=1000:\n",
    "    print(\"Safe to land\")\n",
    "elif 1000<number<=5000:\n",
    "    print(\" \")\n",
    "    print(\"Come down to 1000 ft\")\n",
    "else:\n",
    "    print(\" \")\n",
    "    print(\"Turn around and try later\")"
   ]
  },
  {
   "cell_type": "code",
   "execution_count": 17,
   "metadata": {},
   "outputs": [
    {
     "name": "stdout",
     "output_type": "stream",
     "text": [
      "Enter the plane Altitute = 6800\n",
      " \n",
      "Turn around and try later\n"
     ]
    }
   ],
   "source": [
    "number = int(input(\"Enter the plane Altitute = \"))\n",
    "if number<=1000:\n",
    "    print(\"Safe to land\")\n",
    "elif 1000<number<=5000:\n",
    "    print(\"Come down to 1000ft\")\n",
    "else:\n",
    "    print(\" \")\n",
    "    print(\"Turn around and try later\")"
   ]
  },
  {
   "cell_type": "markdown",
   "metadata": {},
   "source": [
    "# Question 2"
   ]
  },
  {
   "cell_type": "code",
   "execution_count": 3,
   "metadata": {},
   "outputs": [
    {
     "name": "stdout",
     "output_type": "stream",
     "text": [
      "List of prime numbers between 1 to 200 is as follows:\n",
      "2\n",
      "3\n",
      "5\n",
      "7\n",
      "11\n",
      "13\n",
      "17\n",
      "19\n",
      "23\n",
      "29\n",
      "31\n",
      "37\n",
      "41\n",
      "43\n",
      "47\n",
      "53\n",
      "59\n",
      "61\n",
      "67\n",
      "71\n",
      "73\n",
      "79\n",
      "83\n",
      "89\n",
      "97\n",
      "101\n",
      "103\n",
      "107\n",
      "109\n",
      "113\n",
      "127\n",
      "131\n",
      "137\n",
      "139\n",
      "149\n",
      "151\n",
      "157\n",
      "163\n",
      "167\n",
      "173\n",
      "179\n",
      "181\n",
      "191\n",
      "193\n",
      "197\n",
      "199\n"
     ]
    }
   ],
   "source": [
    "print(\"List of prime numbers between 1 to 200 is as follows:\")\n",
    "for i in range(1,201):\n",
    "    count=0\n",
    "    for j in range(1,i+1):\n",
    "        if i%j==0:\n",
    "            count=count+1\n",
    "    if (count==2):\n",
    "        print(i)"
   ]
  },
  {
   "cell_type": "code",
   "execution_count": null,
   "metadata": {},
   "outputs": [],
   "source": []
  }
 ],
 "metadata": {
  "kernelspec": {
   "display_name": "Python 3",
   "language": "python",
   "name": "python3"
  },
  "language_info": {
   "codemirror_mode": {
    "name": "ipython",
    "version": 3
   },
   "file_extension": ".py",
   "mimetype": "text/x-python",
   "name": "python",
   "nbconvert_exporter": "python",
   "pygments_lexer": "ipython3",
   "version": "3.7.6"
  }
 },
 "nbformat": 4,
 "nbformat_minor": 4
}
