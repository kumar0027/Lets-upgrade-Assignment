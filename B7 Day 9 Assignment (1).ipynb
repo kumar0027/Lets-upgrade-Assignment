{
 "cells": [
  {
   "cell_type": "markdown",
   "metadata": {},
   "source": [
    "# 1. Write a python Function for finding is a given number prime or not and do Unit Testing on it using PyLint and Unittest Library."
   ]
  },
  {
   "cell_type": "markdown",
   "metadata": {},
   "source": [
    "# PyLint Testing"
   ]
  },
  {
   "cell_type": "code",
   "execution_count": 1,
   "metadata": {
    "scrolled": true
   },
   "outputs": [
    {
     "name": "stdout",
     "output_type": "stream",
     "text": [
      "Requirement already satisfied: pylint in c:\\users\\hp\\anaconda3\\lib\\site-packages (2.4.4)\n",
      "Requirement already satisfied: astroid<2.4,>=2.3.0 in c:\\users\\hp\\anaconda3\\lib\\site-packages (from pylint) (2.3.3)\n",
      "Requirement already satisfied: isort<5,>=4.2.5 in c:\\users\\hp\\anaconda3\\lib\\site-packages (from pylint) (4.3.21)\n",
      "Requirement already satisfied: mccabe<0.7,>=0.6 in c:\\users\\hp\\anaconda3\\lib\\site-packages (from pylint) (0.6.1)\n",
      "Requirement already satisfied: colorama; sys_platform == \"win32\" in c:\\users\\hp\\anaconda3\\lib\\site-packages (from pylint) (0.4.3)\n",
      "Requirement already satisfied: typed-ast<1.5,>=1.4.0; implementation_name == \"cpython\" and python_version < \"3.8\" in c:\\users\\hp\\anaconda3\\lib\\site-packages (from astroid<2.4,>=2.3.0->pylint) (1.4.1)\n",
      "Requirement already satisfied: wrapt==1.11.* in c:\\users\\hp\\anaconda3\\lib\\site-packages (from astroid<2.4,>=2.3.0->pylint) (1.11.2)\n",
      "Requirement already satisfied: six~=1.12 in c:\\users\\hp\\anaconda3\\lib\\site-packages (from astroid<2.4,>=2.3.0->pylint) (1.14.0)\n",
      "Requirement already satisfied: lazy-object-proxy==1.4.* in c:\\users\\hp\\anaconda3\\lib\\site-packages (from astroid<2.4,>=2.3.0->pylint) (1.4.3)\n"
     ]
    }
   ],
   "source": [
    "! pip install pylint"
   ]
  },
  {
   "cell_type": "code",
   "execution_count": 7,
   "metadata": {},
   "outputs": [
    {
     "name": "stdout",
     "output_type": "stream",
     "text": [
      "Overwriting prime_number.py\n"
     ]
    }
   ],
   "source": [
    "%%writefile prime_number.py\n",
    "'''\n",
    "lets make a code for Prime number\n",
    "'''\n",
    "def code_prime_number(i):       \n",
    "    COUNT = 0\n",
    "    for j in range(1, i+1):\n",
    "        if i%j == 0:\n",
    "            COUNT = COUNT+1\n",
    "    if(COUNT == 2):\n",
    "        print(\"This is prime number\", i)\n",
    "    else:\n",
    "        print(\"This is not a prime number\")"
   ]
  },
  {
   "cell_type": "code",
   "execution_count": 8,
   "metadata": {},
   "outputs": [
    {
     "name": "stdout",
     "output_type": "stream",
     "text": [
      "This is not a prime number\n"
     ]
    }
   ],
   "source": [
    "import prime_number\n",
    "prime_number.code_prime_number(27)"
   ]
  },
  {
   "cell_type": "code",
   "execution_count": 9,
   "metadata": {
    "scrolled": true
   },
   "outputs": [
    {
     "name": "stdout",
     "output_type": "stream",
     "text": [
      "************* Module prime_number\n",
      "prime_number.py:4:25: C0303: Trailing whitespace (trailing-whitespace)\n",
      "prime_number.py:9:0: C0325: Unnecessary parens after 'if' keyword (superfluous-parens)\n",
      "prime_number.py:4:0: C0116: Missing function or method docstring (missing-function-docstring)\n",
      "prime_number.py:5:4: C0103: Variable name \"COUNT\" doesn't conform to snake_case naming style (invalid-name)\n",
      "prime_number.py:8:12: C0103: Variable name \"COUNT\" doesn't conform to snake_case naming style (invalid-name)\n",
      "\n",
      "------------------------------------------------------------------\n",
      "\n",
      "Your code has been rated at 3.75/10 (previous run: 5.00/10, -1.25)\n",
      "\n",
      "\n",
      "\n"
     ]
    }
   ],
   "source": [
    "! pylint \"prime_number.py\""
   ]
  },
  {
   "cell_type": "markdown",
   "metadata": {},
   "source": [
    "# Unittest Testing"
   ]
  },
  {
   "cell_type": "code",
   "execution_count": 10,
   "metadata": {},
   "outputs": [
    {
     "name": "stdout",
     "output_type": "stream",
     "text": [
      "Writing testprime_number.py\n"
     ]
    }
   ],
   "source": [
    "%%writefile testprime_number.py\n",
    "import unittest\n",
    "import prime_number\n",
    "\n",
    "class test_prime_number(unittest.TestCase):\n",
    "    def check_prime_number(self):\n",
    "        k = 27\n",
    "        result = prime_number.code_prime_number(k)\n",
    "        self.assertEqual(result,\"This is not a prime number\")\n",
    "        \n",
    "if __name__ == \"__main__\":\n",
    "    unittest.main()"
   ]
  },
  {
   "cell_type": "code",
   "execution_count": 11,
   "metadata": {},
   "outputs": [
    {
     "name": "stderr",
     "output_type": "stream",
     "text": [
      "\n",
      "----------------------------------------------------------------------\n",
      "Ran 0 tests in 0.000s\n",
      "\n",
      "OK\n"
     ]
    }
   ],
   "source": [
    "! testprime_number.py"
   ]
  },
  {
   "cell_type": "code",
   "execution_count": null,
   "metadata": {},
   "outputs": [],
   "source": []
  },
  {
   "cell_type": "markdown",
   "metadata": {},
   "source": [
    "# 2. Make a small generator program for returning armstrong numbers in between 1-1000 in a generator object."
   ]
  },
  {
   "cell_type": "code",
   "execution_count": 8,
   "metadata": {},
   "outputs": [],
   "source": [
    "lst = list(range(1000))\n",
    "def checkArmstrongNumber(lst):\n",
    "    for item in lst:\n",
    "        for i in range(item,item+1):\n",
    "            sum=0\n",
    "            temp=i\n",
    "            while temp > 0:\n",
    "                digit=temp%10\n",
    "                sum+=digit**3\n",
    "                temp=temp//10\n",
    "            if i==sum:\n",
    "                yield i\n",
    "            break"
   ]
  },
  {
   "cell_type": "code",
   "execution_count": 9,
   "metadata": {},
   "outputs": [
    {
     "name": "stdout",
     "output_type": "stream",
     "text": [
      "[0, 1, 153, 370, 371, 407]\n"
     ]
    }
   ],
   "source": [
    "print(list(checkArmstrongNumber(lst)))"
   ]
  }
 ],
 "metadata": {
  "kernelspec": {
   "display_name": "Python 3",
   "language": "python",
   "name": "python3"
  },
  "language_info": {
   "codemirror_mode": {
    "name": "ipython",
    "version": 3
   },
   "file_extension": ".py",
   "mimetype": "text/x-python",
   "name": "python",
   "nbconvert_exporter": "python",
   "pygments_lexer": "ipython3",
   "version": "3.7.6"
  }
 },
 "nbformat": 4,
 "nbformat_minor": 4
}
