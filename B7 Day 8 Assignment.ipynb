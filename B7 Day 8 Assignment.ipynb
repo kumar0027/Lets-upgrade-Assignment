{
 "cells": [
  {
   "cell_type": "markdown",
   "metadata": {},
   "source": [
    "# 1. Write a decorator function for your taking input for you any kind of function you want to build. For example - You make a fibonacci series function,in which your input range is been defined by the decorator program input."
   ]
  },
  {
   "cell_type": "code",
   "execution_count": 12,
   "metadata": {},
   "outputs": [
    {
     "name": "stdout",
     "output_type": "stream",
     "text": [
      "Enter the number of terms for Fibonacci series = 25\n",
      "Fibonacci sequence:\n",
      "0\n",
      "1\n",
      "1\n",
      "2\n",
      "3\n",
      "5\n",
      "8\n",
      "13\n",
      "21\n",
      "34\n",
      "55\n",
      "89\n",
      "144\n",
      "233\n",
      "377\n",
      "610\n",
      "987\n",
      "1597\n",
      "2584\n",
      "4181\n",
      "6765\n",
      "10946\n",
      "17711\n",
      "28657\n",
      "46368\n"
     ]
    }
   ],
   "source": [
    "def get_input(fibonacci_function):\n",
    "    def wrap_func():\n",
    "        x = int(input(\"Enter the number of terms for Fibonacci series = \"))\n",
    "        fibonacci_function(x)\n",
    "    return wrap_func\n",
    "\n",
    "@get_input\n",
    "def fibonacci(nterms):\n",
    "    n1, n2 = 0, 1\n",
    "    count = 0\n",
    "\n",
    "    if nterms <= 0:\n",
    "        print(\"Please enter a positive integer\")\n",
    "    elif nterms == 1:\n",
    "        print(\"Fibonacci sequence upto\",nterms,\":\")\n",
    "        print(n1)\n",
    "    else:\n",
    "        print(\"Fibonacci sequence:\")\n",
    "        while count < nterms:\n",
    "            print(n1)\n",
    "            nth = n1 + n2\n",
    "            n1 = n2\n",
    "            n2 = nth\n",
    "            count += 1\n",
    "fibonacci()              "
   ]
  },
  {
   "cell_type": "code",
   "execution_count": null,
   "metadata": {},
   "outputs": [],
   "source": []
  },
  {
   "cell_type": "markdown",
   "metadata": {},
   "source": [
    "# 2. For this challenge you need to develop a Python program to open a file in read only mode and try writing something to it and handle the subsequent errors using Exception Handling."
   ]
  },
  {
   "cell_type": "code",
   "execution_count": 13,
   "metadata": {},
   "outputs": [
    {
     "name": "stdout",
     "output_type": "stream",
     "text": [
      "<xlrd.sheet.Sheet object at 0x0000006CD1E1BC08>\n",
      "['Name', 'Akash', 'Pratik', 'Atul', 'Deepak', 'Prakash', 'Ashish', 'Alok', 'Manish', 'Rash', 'Verma']\n",
      "[2.0, 'Pratik', 21548764.0, '22.3.2004']\n",
      "Deepak\n"
     ]
    }
   ],
   "source": [
    "from excel import OpenExcel\n",
    "\n",
    "f = OpenExcel('Book1.xlsx')\n",
    "print(f.read())\n",
    "print(f.read('B'))\n",
    "print(f.read(3)) \n",
    "print(f.read('B5')) "
   ]
  },
  {
   "cell_type": "code",
   "execution_count": 14,
   "metadata": {},
   "outputs": [
    {
     "ename": "AttributeError",
     "evalue": "'OpenExcel' object has no attribute 'write'",
     "output_type": "error",
     "traceback": [
      "\u001b[1;31m---------------------------------------------------------------------------\u001b[0m",
      "\u001b[1;31mAttributeError\u001b[0m                            Traceback (most recent call last)",
      "\u001b[1;32m<ipython-input-14-2e2c51f3c5a2>\u001b[0m in \u001b[0;36m<module>\u001b[1;34m\u001b[0m\n\u001b[1;32m----> 1\u001b[1;33m \u001b[0mprint\u001b[0m\u001b[1;33m(\u001b[0m\u001b[0mf\u001b[0m\u001b[1;33m.\u001b[0m\u001b[0mwrite\u001b[0m\u001b[1;33m(\u001b[0m\u001b[1;34m\"Let's Upgrade\"\u001b[0m\u001b[1;33m)\u001b[0m\u001b[1;33m)\u001b[0m\u001b[1;33m\u001b[0m\u001b[1;33m\u001b[0m\u001b[0m\n\u001b[0m",
      "\u001b[1;31mAttributeError\u001b[0m: 'OpenExcel' object has no attribute 'write'"
     ]
    }
   ],
   "source": [
    "print(f.write(\"Let's Upgrade\"))"
   ]
  },
  {
   "cell_type": "code",
   "execution_count": 15,
   "metadata": {},
   "outputs": [
    {
     "name": "stdout",
     "output_type": "stream",
     "text": [
      "'OpenExcel' object has no attribute 'write'\n",
      "Please enter the right attribute\n"
     ]
    }
   ],
   "source": [
    "try:\n",
    "    print(f.write(\"Let's Upgrade\"))\n",
    "except AttributeError:\n",
    "    print(\"'OpenExcel' object has no attribute 'write'\")\n",
    "    print(\"Please enter the right attribute\")"
   ]
  }
 ],
 "metadata": {
  "kernelspec": {
   "display_name": "Python 3",
   "language": "python",
   "name": "python3"
  },
  "language_info": {
   "codemirror_mode": {
    "name": "ipython",
    "version": 3
   },
   "file_extension": ".py",
   "mimetype": "text/x-python",
   "name": "python",
   "nbconvert_exporter": "python",
   "pygments_lexer": "ipython3",
   "version": "3.7.6"
  }
 },
 "nbformat": 4,
 "nbformat_minor": 4
}
